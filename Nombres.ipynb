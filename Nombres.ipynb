{
 "cells": [
  {
   "cell_type": "code",
   "execution_count": 34,
   "metadata": {},
   "outputs": [],
   "source": [
    "import pandas as pd"
   ]
  },
  {
   "cell_type": "code",
   "execution_count": 35,
   "metadata": {},
   "outputs": [],
   "source": [
    "dt = pd.read_csv(\"historico-nombres.csv\")"
   ]
  },
  {
   "cell_type": "code",
   "execution_count": 60,
   "metadata": {},
   "outputs": [],
   "source": [
    "def quitar_espacios_en_blanco(oracion: str):\n",
    "    anterior= False\n",
    "    oracion_depurada = \"\"\n",
    "    if type(oracion) == str:\n",
    "        for letra in oracion:\n",
    "            if letra==\" \":\n",
    "                if not anterior:\n",
    "                    oracion_depurada += \"\"\n",
    "                else:\n",
    "                    oracion_depurada += letra\n",
    "                anterior = False\n",
    "            else:\n",
    "                oracion_depurada += letra\n",
    "                anterior = True\n",
    "        return oracion_depurada.rstrip()\n",
    "    return oracion\n",
    "\n",
    "def contar_espacios_en_blanco(oracion: str):\n",
    "    contador = 0\n",
    "    if type(oracion) == str:\n",
    "        for letra in oracion:\n",
    "            if letra==\" \":\n",
    "                contador+=1\n",
    "\n",
    "\n",
    "    \n",
    "\n",
    "\n",
    "    return contador\n",
    "\n"
   ]
  },
  {
   "cell_type": "code",
   "execution_count": 61,
   "metadata": {},
   "outputs": [],
   "source": [
    "dt[\"nombre\"] = dt[\"nombre\"].apply(quitar_espacios_en_blanco)\n",
    "dt[\"cantidad_espacios\"] = dt[\"nombre\"].apply(contar_espacios_en_blanco)"
   ]
  },
  {
   "cell_type": "code",
   "execution_count": 64,
   "metadata": {},
   "outputs": [
    {
     "ename": "ValueError",
     "evalue": "This sheet is too large! Your sheet size is: 9761609, 4 Max sheet size is: 1048576, 16384",
     "output_type": "error",
     "traceback": [
      "\u001b[0;31m---------------------------------------------------------------------------\u001b[0m",
      "\u001b[0;31mValueError\u001b[0m                                Traceback (most recent call last)",
      "\u001b[1;32m/home/kmuflados/Documentos/Notebooks/Proyectos/Escuela.ipynb Cell 5\u001b[0m line \u001b[0;36m1\n\u001b[0;32m----> <a href='vscode-notebook-cell:/home/kmuflados/Documentos/Notebooks/Proyectos/Escuela.ipynb#W4sZmlsZQ%3D%3D?line=0'>1</a>\u001b[0m dt\u001b[39m.\u001b[39;49mto_excel(\u001b[39m\"\u001b[39;49m\u001b[39mhistorico-nombres-depurado.xlsx\u001b[39;49m\u001b[39m\"\u001b[39;49m,index\u001b[39m=\u001b[39;49m\u001b[39mFalse\u001b[39;49;00m)\n",
      "File \u001b[0;32m~/Documentos/Notebooks/env/lib/python3.11/site-packages/pandas/core/generic.py:2252\u001b[0m, in \u001b[0;36mNDFrame.to_excel\u001b[0;34m(self, excel_writer, sheet_name, na_rep, float_format, columns, header, index, index_label, startrow, startcol, engine, merge_cells, inf_rep, freeze_panes, storage_options)\u001b[0m\n\u001b[1;32m   2239\u001b[0m \u001b[39mfrom\u001b[39;00m \u001b[39mpandas\u001b[39;00m\u001b[39m.\u001b[39;00m\u001b[39mio\u001b[39;00m\u001b[39m.\u001b[39;00m\u001b[39mformats\u001b[39;00m\u001b[39m.\u001b[39;00m\u001b[39mexcel\u001b[39;00m \u001b[39mimport\u001b[39;00m ExcelFormatter\n\u001b[1;32m   2241\u001b[0m formatter \u001b[39m=\u001b[39m ExcelFormatter(\n\u001b[1;32m   2242\u001b[0m     df,\n\u001b[1;32m   2243\u001b[0m     na_rep\u001b[39m=\u001b[39mna_rep,\n\u001b[0;32m   (...)\u001b[0m\n\u001b[1;32m   2250\u001b[0m     inf_rep\u001b[39m=\u001b[39minf_rep,\n\u001b[1;32m   2251\u001b[0m )\n\u001b[0;32m-> 2252\u001b[0m formatter\u001b[39m.\u001b[39;49mwrite(\n\u001b[1;32m   2253\u001b[0m     excel_writer,\n\u001b[1;32m   2254\u001b[0m     sheet_name\u001b[39m=\u001b[39;49msheet_name,\n\u001b[1;32m   2255\u001b[0m     startrow\u001b[39m=\u001b[39;49mstartrow,\n\u001b[1;32m   2256\u001b[0m     startcol\u001b[39m=\u001b[39;49mstartcol,\n\u001b[1;32m   2257\u001b[0m     freeze_panes\u001b[39m=\u001b[39;49mfreeze_panes,\n\u001b[1;32m   2258\u001b[0m     engine\u001b[39m=\u001b[39;49mengine,\n\u001b[1;32m   2259\u001b[0m     storage_options\u001b[39m=\u001b[39;49mstorage_options,\n\u001b[1;32m   2260\u001b[0m )\n",
      "File \u001b[0;32m~/Documentos/Notebooks/env/lib/python3.11/site-packages/pandas/io/formats/excel.py:923\u001b[0m, in \u001b[0;36mExcelFormatter.write\u001b[0;34m(self, writer, sheet_name, startrow, startcol, freeze_panes, engine, storage_options)\u001b[0m\n\u001b[1;32m    921\u001b[0m num_rows, num_cols \u001b[39m=\u001b[39m \u001b[39mself\u001b[39m\u001b[39m.\u001b[39mdf\u001b[39m.\u001b[39mshape\n\u001b[1;32m    922\u001b[0m \u001b[39mif\u001b[39;00m num_rows \u001b[39m>\u001b[39m \u001b[39mself\u001b[39m\u001b[39m.\u001b[39mmax_rows \u001b[39mor\u001b[39;00m num_cols \u001b[39m>\u001b[39m \u001b[39mself\u001b[39m\u001b[39m.\u001b[39mmax_cols:\n\u001b[0;32m--> 923\u001b[0m     \u001b[39mraise\u001b[39;00m \u001b[39mValueError\u001b[39;00m(\n\u001b[1;32m    924\u001b[0m         \u001b[39mf\u001b[39m\u001b[39m\"\u001b[39m\u001b[39mThis sheet is too large! Your sheet size is: \u001b[39m\u001b[39m{\u001b[39;00mnum_rows\u001b[39m}\u001b[39;00m\u001b[39m, \u001b[39m\u001b[39m{\u001b[39;00mnum_cols\u001b[39m}\u001b[39;00m\u001b[39m \u001b[39m\u001b[39m\"\u001b[39m\n\u001b[1;32m    925\u001b[0m         \u001b[39mf\u001b[39m\u001b[39m\"\u001b[39m\u001b[39mMax sheet size is: \u001b[39m\u001b[39m{\u001b[39;00m\u001b[39mself\u001b[39m\u001b[39m.\u001b[39mmax_rows\u001b[39m}\u001b[39;00m\u001b[39m, \u001b[39m\u001b[39m{\u001b[39;00m\u001b[39mself\u001b[39m\u001b[39m.\u001b[39mmax_cols\u001b[39m}\u001b[39;00m\u001b[39m\"\u001b[39m\n\u001b[1;32m    926\u001b[0m     )\n\u001b[1;32m    928\u001b[0m formatted_cells \u001b[39m=\u001b[39m \u001b[39mself\u001b[39m\u001b[39m.\u001b[39mget_formatted_cells()\n\u001b[1;32m    929\u001b[0m \u001b[39mif\u001b[39;00m \u001b[39misinstance\u001b[39m(writer, ExcelWriter):\n",
      "\u001b[0;31mValueError\u001b[0m: This sheet is too large! Your sheet size is: 9761609, 4 Max sheet size is: 1048576, 16384"
     ]
    }
   ],
   "source": [
    "dt.to_csv(\"historico-nombres-depurado.csv\",index=False)"
   ]
  }
 ],
 "metadata": {
  "kernelspec": {
   "display_name": "env",
   "language": "python",
   "name": "python3"
  },
  "language_info": {
   "codemirror_mode": {
    "name": "ipython",
    "version": 3
   },
   "file_extension": ".py",
   "mimetype": "text/x-python",
   "name": "python",
   "nbconvert_exporter": "python",
   "pygments_lexer": "ipython3",
   "version": "3.11.4"
  }
 },
 "nbformat": 4,
 "nbformat_minor": 2
}
